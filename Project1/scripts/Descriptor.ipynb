{
 "cells": [
  {
   "cell_type": "code",
   "execution_count": 2,
   "metadata": {},
   "outputs": [],
   "source": [
    "#reading in data\n",
    "import pandas as pd \n",
    "\n",
    "df_active_inactive = pd.read_csv('../../data/data_active_inactive.csv')"
   ]
  },
  {
   "cell_type": "code",
   "execution_count": 3,
   "metadata": {},
   "outputs": [
    {
     "data": {
      "text/html": [
       "<div>\n",
       "<style scoped>\n",
       "    .dataframe tbody tr th:only-of-type {\n",
       "        vertical-align: middle;\n",
       "    }\n",
       "\n",
       "    .dataframe tbody tr th {\n",
       "        vertical-align: top;\n",
       "    }\n",
       "\n",
       "    .dataframe thead th {\n",
       "        text-align: right;\n",
       "    }\n",
       "</style>\n",
       "<table border=\"1\" class=\"dataframe\">\n",
       "  <thead>\n",
       "    <tr style=\"text-align: right;\">\n",
       "      <th></th>\n",
       "      <th>molecule_chembl_id</th>\n",
       "      <th>canonical_smiles</th>\n",
       "      <th>bioactivity_class</th>\n",
       "      <th>MW</th>\n",
       "      <th>LogP</th>\n",
       "      <th>NumHDonors</th>\n",
       "      <th>NumHAcceptors</th>\n",
       "      <th>pIC50</th>\n",
       "    </tr>\n",
       "  </thead>\n",
       "  <tbody>\n",
       "    <tr>\n",
       "      <th>0</th>\n",
       "      <td>CHEMBL185698</td>\n",
       "      <td>O=C1C(=O)N(CC2COc3ccccc3O2)c2ccc(I)cc21</td>\n",
       "      <td>inactive</td>\n",
       "      <td>421.190</td>\n",
       "      <td>2.66050</td>\n",
       "      <td>0.0</td>\n",
       "      <td>4.0</td>\n",
       "      <td>4.869666</td>\n",
       "    </tr>\n",
       "    <tr>\n",
       "      <th>1</th>\n",
       "      <td>CHEMBL426082</td>\n",
       "      <td>O=C1C(=O)N(Cc2cc3ccccc3s2)c2ccccc21</td>\n",
       "      <td>inactive</td>\n",
       "      <td>293.347</td>\n",
       "      <td>3.63080</td>\n",
       "      <td>0.0</td>\n",
       "      <td>3.0</td>\n",
       "      <td>4.882397</td>\n",
       "    </tr>\n",
       "    <tr>\n",
       "      <th>2</th>\n",
       "      <td>CHEMBL365134</td>\n",
       "      <td>O=C1C(=O)N(Cc2cc3ccccc3s2)c2c(Br)cccc21</td>\n",
       "      <td>active</td>\n",
       "      <td>372.243</td>\n",
       "      <td>4.39330</td>\n",
       "      <td>0.0</td>\n",
       "      <td>3.0</td>\n",
       "      <td>6.008774</td>\n",
       "    </tr>\n",
       "    <tr>\n",
       "      <th>3</th>\n",
       "      <td>CHEMBL190743</td>\n",
       "      <td>O=C1C(=O)N(Cc2cc3ccccc3s2)c2ccc(I)cc21</td>\n",
       "      <td>active</td>\n",
       "      <td>419.243</td>\n",
       "      <td>4.23540</td>\n",
       "      <td>0.0</td>\n",
       "      <td>3.0</td>\n",
       "      <td>6.022276</td>\n",
       "    </tr>\n",
       "    <tr>\n",
       "      <th>4</th>\n",
       "      <td>CHEMBL365469</td>\n",
       "      <td>O=C1C(=O)N(Cc2cc3ccccc3s2)c2cccc(Cl)c21</td>\n",
       "      <td>inactive</td>\n",
       "      <td>327.792</td>\n",
       "      <td>4.28420</td>\n",
       "      <td>0.0</td>\n",
       "      <td>3.0</td>\n",
       "      <td>4.950782</td>\n",
       "    </tr>\n",
       "    <tr>\n",
       "      <th>...</th>\n",
       "      <td>...</td>\n",
       "      <td>...</td>\n",
       "      <td>...</td>\n",
       "      <td>...</td>\n",
       "      <td>...</td>\n",
       "      <td>...</td>\n",
       "      <td>...</td>\n",
       "      <td>...</td>\n",
       "    </tr>\n",
       "    <tr>\n",
       "      <th>193</th>\n",
       "      <td>CHEMBL4590273</td>\n",
       "      <td>Cc1cccc2nc(CSC(=S)NCc3cccnc3)cn12</td>\n",
       "      <td>active</td>\n",
       "      <td>328.466</td>\n",
       "      <td>3.34562</td>\n",
       "      <td>1.0</td>\n",
       "      <td>5.0</td>\n",
       "      <td>6.419999</td>\n",
       "    </tr>\n",
       "    <tr>\n",
       "      <th>194</th>\n",
       "      <td>CHEMBL5436771</td>\n",
       "      <td>S=C([S-])NCc1cccnc1.[K+]</td>\n",
       "      <td>active</td>\n",
       "      <td>222.379</td>\n",
       "      <td>-1.99300</td>\n",
       "      <td>1.0</td>\n",
       "      <td>3.0</td>\n",
       "      <td>6.782516</td>\n",
       "    </tr>\n",
       "    <tr>\n",
       "      <th>195</th>\n",
       "      <td>CHEMBL2365410</td>\n",
       "      <td>CC(C)C[C@H](NC(=O)OCc1ccccc1)C(=O)N[C@@H](CC1C...</td>\n",
       "      <td>active</td>\n",
       "      <td>485.559</td>\n",
       "      <td>0.54470</td>\n",
       "      <td>5.0</td>\n",
       "      <td>7.0</td>\n",
       "      <td>6.793174</td>\n",
       "    </tr>\n",
       "    <tr>\n",
       "      <th>196</th>\n",
       "      <td>CHEMBL5436771</td>\n",
       "      <td>S=C([S-])NCc1cccnc1.[K+]</td>\n",
       "      <td>active</td>\n",
       "      <td>222.379</td>\n",
       "      <td>-1.99300</td>\n",
       "      <td>1.0</td>\n",
       "      <td>3.0</td>\n",
       "      <td>6.779997</td>\n",
       "    </tr>\n",
       "    <tr>\n",
       "      <th>197</th>\n",
       "      <td>CHEMBL2365410</td>\n",
       "      <td>CC(C)C[C@H](NC(=O)OCc1ccccc1)C(=O)N[C@@H](CC1C...</td>\n",
       "      <td>active</td>\n",
       "      <td>485.559</td>\n",
       "      <td>0.54470</td>\n",
       "      <td>5.0</td>\n",
       "      <td>7.0</td>\n",
       "      <td>6.790003</td>\n",
       "    </tr>\n",
       "  </tbody>\n",
       "</table>\n",
       "<p>198 rows × 8 columns</p>\n",
       "</div>"
      ],
      "text/plain": [
       "    molecule_chembl_id                                   canonical_smiles  \\\n",
       "0         CHEMBL185698            O=C1C(=O)N(CC2COc3ccccc3O2)c2ccc(I)cc21   \n",
       "1         CHEMBL426082                O=C1C(=O)N(Cc2cc3ccccc3s2)c2ccccc21   \n",
       "2         CHEMBL365134            O=C1C(=O)N(Cc2cc3ccccc3s2)c2c(Br)cccc21   \n",
       "3         CHEMBL190743             O=C1C(=O)N(Cc2cc3ccccc3s2)c2ccc(I)cc21   \n",
       "4         CHEMBL365469            O=C1C(=O)N(Cc2cc3ccccc3s2)c2cccc(Cl)c21   \n",
       "..                 ...                                                ...   \n",
       "193      CHEMBL4590273                  Cc1cccc2nc(CSC(=S)NCc3cccnc3)cn12   \n",
       "194      CHEMBL5436771                           S=C([S-])NCc1cccnc1.[K+]   \n",
       "195      CHEMBL2365410  CC(C)C[C@H](NC(=O)OCc1ccccc1)C(=O)N[C@@H](CC1C...   \n",
       "196      CHEMBL5436771                           S=C([S-])NCc1cccnc1.[K+]   \n",
       "197      CHEMBL2365410  CC(C)C[C@H](NC(=O)OCc1ccccc1)C(=O)N[C@@H](CC1C...   \n",
       "\n",
       "    bioactivity_class       MW     LogP  NumHDonors  NumHAcceptors     pIC50  \n",
       "0            inactive  421.190  2.66050         0.0            4.0  4.869666  \n",
       "1            inactive  293.347  3.63080         0.0            3.0  4.882397  \n",
       "2              active  372.243  4.39330         0.0            3.0  6.008774  \n",
       "3              active  419.243  4.23540         0.0            3.0  6.022276  \n",
       "4            inactive  327.792  4.28420         0.0            3.0  4.950782  \n",
       "..                ...      ...      ...         ...            ...       ...  \n",
       "193            active  328.466  3.34562         1.0            5.0  6.419999  \n",
       "194            active  222.379 -1.99300         1.0            3.0  6.782516  \n",
       "195            active  485.559  0.54470         5.0            7.0  6.793174  \n",
       "196            active  222.379 -1.99300         1.0            3.0  6.779997  \n",
       "197            active  485.559  0.54470         5.0            7.0  6.790003  \n",
       "\n",
       "[198 rows x 8 columns]"
      ]
     },
     "execution_count": 3,
     "metadata": {},
     "output_type": "execute_result"
    }
   ],
   "source": [
    "df_active_inactive"
   ]
  },
  {
   "cell_type": "code",
   "execution_count": 4,
   "metadata": {},
   "outputs": [],
   "source": [
    "cols_of_int = ['canonical_smiles', 'molecule_chembl_id']\n",
    "df3_fil = df_active_inactive[cols_of_int]\n",
    "df3_fil.to_csv('../../data/molecule.smi', sep='\\t', index=False, header=False)"
   ]
  },
  {
   "cell_type": "code",
   "execution_count": 7,
   "metadata": {},
   "outputs": [
    {
     "name": "stdout",
     "output_type": "stream",
     "text": [
      "O=C1C(=O)N(CC2COc3ccccc3O2)c2ccc(I)cc21\tCHEMBL185698\n",
      "O=C1C(=O)N(Cc2cc3ccccc3s2)c2ccccc21\tCHEMBL426082\n",
      "O=C1C(=O)N(Cc2cc3ccccc3s2)c2c(Br)cccc21\tCHEMBL365134\n",
      "O=C1C(=O)N(Cc2cc3ccccc3s2)c2ccc(I)cc21\tCHEMBL190743\n",
      "O=C1C(=O)N(Cc2cc3ccccc3s2)c2cccc(Cl)c21\tCHEMBL365469\n"
     ]
    }
   ],
   "source": [
    "!cat ../../data/molecule.smi | head -n 5"
   ]
  },
  {
   "cell_type": "code",
   "execution_count": 8,
   "metadata": {},
   "outputs": [
    {
     "name": "stdout",
     "output_type": "stream",
     "text": [
      "     198\n"
     ]
    }
   ],
   "source": [
    "!cat ../../data/molecule.smi | wc -l"
   ]
  },
  {
   "attachments": {},
   "cell_type": "markdown",
   "metadata": {},
   "source": [
    "#### Calculating the fingerprint descriptors"
   ]
  },
  {
   "cell_type": "code",
   "execution_count": 9,
   "metadata": {},
   "outputs": [
    {
     "name": "stdout",
     "output_type": "stream",
     "text": [
      "Jun 02, 2025 11:29:47 PM padeldescriptor.PaDELDescriptorApp StartCmd\n",
      "SEVERE: Cannot read in descriptor types file\n",
      "java.lang.NullPointerException: Cannot invoke \"java.util.Set.contains(Object)\" because \"<parameter1>\" is null\n",
      "\tat libpadeldescriptor.libPaDELDescriptorType.SetDescriptorTypes(Unknown Source)\n",
      "\tat libpadeldescriptor.libPaDELDescriptorMaster.SetDescriptorTypes(Unknown Source)\n",
      "\tat padeldescriptor.PaDELDescriptorApp.StartCmd(Unknown Source)\n",
      "\tat padeldescriptor.PaDELDescriptorApp.launchCommandLine(Unknown Source)\n",
      "\tat padeldescriptor.PaDELDescriptorApp.main(Unknown Source)\n",
      "\n",
      "Cannot read in descriptor types file.\n"
     ]
    }
   ],
   "source": [
    "!bash run_padel.sh"
   ]
  },
  {
   "cell_type": "code",
   "execution_count": 10,
   "metadata": {},
   "outputs": [
    {
     "name": "stdout",
     "output_type": "stream",
     "text": [
      "ls: ../../PaDEL-Descriptor/PubchemFingerprinter.xml: No such file or directory\n"
     ]
    }
   ],
   "source": [
    "!ls ../../PaDEL-Descriptor/PubchemFingerprinter.xml"
   ]
  },
  {
   "cell_type": "code",
   "execution_count": null,
   "metadata": {},
   "outputs": [],
   "source": []
  },
  {
   "cell_type": "code",
   "execution_count": null,
   "metadata": {},
   "outputs": [],
   "source": []
  }
 ],
 "metadata": {
  "kernelspec": {
   "display_name": "venv",
   "language": "python",
   "name": "python3"
  },
  "language_info": {
   "codemirror_mode": {
    "name": "ipython",
    "version": 3
   },
   "file_extension": ".py",
   "mimetype": "text/x-python",
   "name": "python",
   "nbconvert_exporter": "python",
   "pygments_lexer": "ipython3",
   "version": "3.13.3"
  },
  "orig_nbformat": 4
 },
 "nbformat": 4,
 "nbformat_minor": 2
}
